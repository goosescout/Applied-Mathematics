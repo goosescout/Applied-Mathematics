{
 "cells": [
  {
   "cell_type": "markdown",
   "metadata": {},
   "source": [
    "# Лабораторная работа №3\n",
    "\n",
    "_Выполнили: Гуревич Михаил, Трохан Александр и Соловьёв Роман, M33001_"
   ]
  },
  {
   "cell_type": "code",
   "execution_count": 3,
   "metadata": {},
   "outputs": [],
   "source": [
    "import numpy as np\n",
    "import json\n",
    "from numpy import linalg as la\n",
    "from kosaraju import Graph\n",
    "import decimal\n",
    "from matplotlib import pyplot as plt\n",
    "from prettytable import PrettyTable\n",
    "\n",
    "decimal.getcontext().prec = 10\n",
    "MAX_STEP = 100000\n",
    "\n",
    "s1 = np.array([1, 0, 0, 0, 0, 0, 0, 0])\n",
    "s2 = np.array([0.125, 0.125, 0.125, 0.125, 0.125, 0.125, 0.125, 0.125])"
   ]
  },
  {
   "cell_type": "markdown",
   "metadata": {},
   "source": [
    "## Реализация алгоритма"
   ]
  },
  {
   "cell_type": "markdown",
   "metadata": {},
   "source": [
    "Реализуем класс дискретной эргодической цепи Маркова:"
   ]
  },
  {
   "cell_type": "code",
   "execution_count": 4,
   "metadata": {},
   "outputs": [],
   "source": [
    "class Markov_chain:\n",
    "    def __init__(self, matrix: np.ndarray, eps: decimal.Decimal, max_step: int=MAX_STEP):\n",
    "        self.matrix = matrix.copy()\n",
    "        self.eps = eps\n",
    "        self.max_step = max_step\n",
    "\n",
    "    @staticmethod\n",
    "    def from_json(path: str):\n",
    "        with open(path) as f:\n",
    "            data = json.load(f)\n",
    "            matrix = np.array(data[\"transition_matrix\"])\n",
    "            eps = round(decimal.Decimal(data[\"epsilon\"]), 10)\n",
    "        return Markov_chain(matrix, eps)\n",
    "    \n",
    "    def __str__(self):\n",
    "        return str(self.matrix) + \"\\nEpsilon = \" + str(self.eps)\n",
    "\n",
    "    def _check_ergodicity(self):\n",
    "        \"\"\"Check if matrix is ergodic (indecomposable + aperiodic state).\"\"\"\n",
    "\n",
    "        g = Graph(self.matrix)\n",
    "        if g.find_striongly_connected_components_count() != 1:\n",
    "            raise ValueError(\"The Markov chain is not ergodicity.\")\n",
    "        \n",
    "        for i in range(len(self.matrix)):\n",
    "            if len(self.matrix) != len(self.matrix[i]):\n",
    "                raise ValueError(\"Incorrect shape of matrix.\")\n",
    "\n",
    "            sum_ = 0\n",
    "            for j in range(len(self.matrix[i])):\n",
    "                if self.matrix[i][j] < 0:\n",
    "                    raise ValueError(\"The probability cannot be less than 0.\")\n",
    "                \n",
    "                if i == j and self.matrix[i][j] == 0:\n",
    "                    raise ValueError(\"The probability of staying must be greater than 0.\")\n",
    "\n",
    "                sum_ += decimal.Decimal(self.matrix[i][j])\n",
    "\n",
    "            if sum_ != 1:\n",
    "                raise ValueError(\"The sum of probabilities in each row must be equal to 1.\")\n",
    "\n",
    "    def _numeric_model(self, s: np.ndarray, step: int, shape: list=[]):\n",
    "        \"\"\"Find result distribution vector and MSE using iteration method.\"\"\"\n",
    "\n",
    "        if step > self.max_step:\n",
    "            return (s, step - 1, shape)\n",
    "\n",
    "        s_next: np.ndarray = s @ self.matrix\n",
    "        shape.append((np.square(s - s_next)).mean())\n",
    "\n",
    "        if la.norm(np.abs(s_next - s)) < self.eps:\n",
    "            return (s_next, step, shape)\n",
    "        else:\n",
    "            return self._numeric_model(s_next, step + 1, shape)\n",
    "    \n",
    "    def get_numeric_distribution(self, s: np.ndarray):\n",
    "        \"\"\"Handles iterations result and get a graph of MSE changing from it.\"\"\"\n",
    "\n",
    "        if np.sum(s) != 1:\n",
    "            raise ValueError(\"The sum of probabilities in distribution must be equal to 1.\")\n",
    "        \n",
    "        s_res, n, shape = self._numeric_model(s, 1, [])\n",
    "                    \n",
    "        fig = plt.figure()\n",
    "        plt.plot(range(1, n + 1), shape)\n",
    "        return (s_res, n, fig)\n",
    "\n",
    "    def _make_identity(self, matrix: np.ndarray):\n",
    "        \"\"\"Creates identity matrix after Gauss.\"\"\"\n",
    "        \n",
    "        for nrow in range(len(matrix) - 1, 0, -1):\n",
    "            row = matrix[nrow]\n",
    "            for upper_row in matrix[:nrow]:\n",
    "                factor = upper_row[nrow]\n",
    "                upper_row -= factor * row\n",
    "\n",
    "        return matrix\n",
    "\n",
    "    def _gauss(self, matrix: np.ndarray):\n",
    "        \"\"\"Gauss method.\"\"\"\n",
    "        \n",
    "        for nrow in range(len(matrix)):\n",
    "            pivot = nrow + np.argmax(abs(matrix[nrow:, nrow]))\n",
    "            if pivot != nrow:\n",
    "                matrix[[nrow, pivot]] = matrix[[pivot, nrow]]\n",
    "            row = matrix[nrow]\n",
    "            divider = row[nrow]\n",
    "            if abs(divider) < 1e-10:\n",
    "                raise ValueError(\"Matrix is singular.\")\n",
    "            \n",
    "            row /= divider\n",
    "            \n",
    "            for lower_row in matrix[nrow+1:]:\n",
    "                factor = lower_row[nrow]\n",
    "                lower_row -= factor * row\n",
    "\n",
    "        return self._make_identity(matrix)\n",
    "    \n",
    "    def get_analytical_distribution(self):\n",
    "        \"\"\"Find result distribution vector using analytical method (with Gauss).\"\"\"\n",
    "\n",
    "        M = np.copy(self.matrix.T) - np.eye(len(self.matrix))\n",
    "        M[0] = np.ones(len(M[0]))\n",
    "        b = np.zeros(len(M))\n",
    "        b[0] = 1\n",
    "        M = np.insert(M, len(M), b, axis=1)\n",
    "        print(M)\n",
    "\n",
    "        return (self._gauss(M))[:, len(M)]"
   ]
  },
  {
   "cell_type": "markdown",
   "metadata": {},
   "source": [
    "Используя этот класс, реализуем функцию которая будет выводить необходимый анализ цепи Маркова:"
   ]
  },
  {
   "cell_type": "code",
   "execution_count": 5,
   "metadata": {},
   "outputs": [],
   "source": [
    "def solve(file: str):\n",
    "    chain = Markov_chain.from_json(file)\n",
    "    print(f\"Analyze a Markov chain:\\n{chain}\")\n",
    "\n",
    "    try:\n",
    "        chain._check_ergodicity()\n",
    "        s_res_1, n1, fig1 = chain.get_numeric_distribution(s1)\n",
    "\n",
    "        print(f\"First test starts from distribution: {s1}\")\n",
    "        print(f\"Recieved final distribution with {n1} steps: {s_res_1}\")\n",
    "        print(f\"MSE change graph:\")\n",
    "        plt.show(fig1)\n",
    "\n",
    "        s_res_2, n2, fig2 = chain.get_numeric_distribution(s2)\n",
    "        print(f\"Second test starts from distribution: {s2}\")\n",
    "        print(f\"Recieved final distribution with {n2} steps: {s_res_2}\")\n",
    "        print(f\"MSE change graph:\")\n",
    "        plt.show(fig2)\n",
    "\n",
    "        s_res_3 = chain.get_analytical_distribution()\n",
    "        print(f\"Third test made with analytical solution.\")\n",
    "        print(f\"Recieved final distribution: {s_res_3}\")\n",
    "\n",
    "        column_names = []\n",
    "        for i in range(1, len(chain.matrix[0]) + 1):\n",
    "            column_names.append(\"s\"+str(i))            \n",
    "\n",
    "        tab = PrettyTable(column_names)\n",
    "        \n",
    "        tab.add_row(s_res_1)\n",
    "        tab.add_row(s_res_2)\n",
    "        tab.add_row(s_res_3)\n",
    "\n",
    "        tab._field_names.insert(0, \"Method\") \n",
    "        tab._align[\"Method\"] = \"c\" \n",
    "        tab._valign[\"Method\"] = \"t\" \n",
    "        \n",
    "        tab._rows[0].insert(0, \"Numeric 1\") \n",
    "        tab._rows[1].insert(0, \"Numeric 2\")\n",
    "        tab._rows[2].insert(0, \"Analytical\")\n",
    "\n",
    "        print(f\"Comparing results:\")\n",
    "        print(tab)\n",
    "        \n",
    "    except ValueError:\n",
    "        print(\"The chain is not ergodic.\")"
   ]
  },
  {
   "cell_type": "markdown",
   "metadata": {},
   "source": [
    "## Тестирование алгоритма"
   ]
  },
  {
   "cell_type": "markdown",
   "metadata": {},
   "source": [
    "С помощью реализованного алгоритма проанализируем цепь Маркова со следующей матрицей переходных вероятностей:\n",
    "$$P = \\begin{pmatrix}\n",
    "    0.2 & 0.3 & 0.1 & 0.0 & 0.0 & 0.2 & 0.1 & 0.1 \\\\\n",
    "    0.2 & 0.2 & 0.1 & 0.2 & 0.1 & 0.1 & 0.1 & 0.0 \\\\\n",
    "    0.1 & 0.1 & 0.4 & 0.1 & 0.1 & 0.1 & 0.0 & 0.1 \\\\\n",
    "    0.0 & 0.2 & 0.1 & 0.2 & 0.1 & 0.1 & 0.2 & 0.1 \\\\\n",
    "    0.1 & 0.0 & 0.1 & 0.2 & 0.3 & 0.2 & 0.1 & 0.0 \\\\ \n",
    "    0.1 & 0.1 & 0.2 & 0.1 & 0.2 & 0.2 & 0.1 & 0.0 \\\\\n",
    "    0.2 & 0.1 & 0.1 & 0.2 & 0.1 & 0.2 & 0.1 & 0.0 \\\\\n",
    "    0.1 & 0.1 & 0.2 & 0.1 & 0.1 & 0.2 & 0.1 & 0.1\n",
    "\\end{pmatrix}$$\n"
   ]
  },
  {
   "cell_type": "code",
   "execution_count": 6,
   "metadata": {},
   "outputs": [
    {
     "name": "stdout",
     "output_type": "stream",
     "text": [
      "Analyze a Markov chain:\n",
      "[[0.2 0.3 0.1 0.  0.  0.2 0.1 0.1]\n",
      " [0.2 0.2 0.1 0.2 0.1 0.1 0.1 0. ]\n",
      " [0.1 0.1 0.4 0.1 0.1 0.1 0.  0.1]\n",
      " [0.  0.2 0.1 0.2 0.1 0.1 0.2 0.1]\n",
      " [0.1 0.  0.1 0.2 0.3 0.2 0.1 0. ]\n",
      " [0.1 0.1 0.2 0.1 0.2 0.2 0.1 0. ]\n",
      " [0.2 0.1 0.1 0.2 0.1 0.2 0.1 0. ]\n",
      " [0.1 0.1 0.2 0.1 0.1 0.2 0.1 0.1]]\n",
      "Epsilon = 0.0000050000\n",
      "First test starts from distribution: [1 0 0 0 0 0 0 0]\n",
      "Recieved final distribution with 11 steps: [0.12196987 0.13921303 0.17186745 0.13811168 0.12913843 0.15508076\n",
      " 0.09662448 0.0479943 ]\n",
      "MSE change graph:\n"
     ]
    },
    {
     "data": {
      "image/png": "[encoded data removed]",
      "text/plain": [
       "<Figure size 640x480 with 1 Axes>"
      ]
     },
     "metadata": {},
     "output_type": "display_data"
    },
    {
     "name": "stdout",
     "output_type": "stream",
     "text": [
      "Second test starts from distribution: [0.125 0.125 0.125 0.125 0.125 0.125 0.125 0.125]\n",
      "Recieved final distribution with 8 steps: [0.1219699  0.13921306 0.17186642 0.13811203 0.1291387  0.15508098\n",
      " 0.09662493 0.04799398]\n",
      "MSE change graph:\n"
     ]
    },
    {
     "data": {
      "image/png": "[encoded data removed]",
      "text/plain": [
       "<Figure size 640x480 with 1 Axes>"
      ]
     },
     "metadata": {},
     "output_type": "display_data"
    },
    {
     "name": "stdout",
     "output_type": "stream",
     "text": [
      "[[ 1.   1.   1.   1.   1.   1.   1.   1.   1. ]\n",
      " [ 0.3 -0.8  0.1  0.2  0.   0.1  0.1  0.1  0. ]\n",
      " [ 0.1  0.1 -0.6  0.1  0.1  0.2  0.1  0.2  0. ]\n",
      " [ 0.   0.2  0.1 -0.8  0.2  0.1  0.2  0.1  0. ]\n",
      " [ 0.   0.1  0.1  0.1 -0.7  0.2  0.1  0.1  0. ]\n",
      " [ 0.2  0.1  0.1  0.1  0.2 -0.8  0.2  0.2  0. ]\n",
      " [ 0.1  0.1  0.   0.2  0.1  0.1 -0.9  0.1  0. ]\n",
      " [ 0.1  0.   0.1  0.1  0.   0.   0.  -0.9  0. ]]\n",
      "Third test made with analytical solution.\n",
      "Recieved final distribution: [0.12196944 0.13921242 0.17186788 0.13811181 0.12913892 0.15508079\n",
      " 0.09662439 0.04799435]\n",
      "Comparing results:\n",
      "+------------+---------------------+---------------------+---------------------+---------------------+---------------------+---------------------+---------------------+----------------------+\n",
      "|   Method   |          s1         |          s2         |          s3         |          s4         |          s5         |          s6         |          s7         |          s8          |\n",
      "+------------+---------------------+---------------------+---------------------+---------------------+---------------------+---------------------+---------------------+----------------------+\n",
      "| Numeric 1  | 0.12196986531000005 | 0.13921303437000004 | 0.17186745292000008 | 0.13811168340000005 | 0.12913842670000006 |  0.1550807612500001 | 0.09662447934000004 | 0.047994296710000016 |\n",
      "| Numeric 2  | 0.12196989500000004 | 0.13921306000000003 | 0.17186642000000005 | 0.13811203250000006 | 0.12913869875000006 | 0.15508098375000004 | 0.09662493000000004 | 0.04799398000000001  |\n",
      "| Analytical | 0.12196944486741998 |  0.1392124201444123 | 0.17186787675198636 | 0.13811180962492692 | 0.12913891806005595 | 0.15508078934786745 | 0.09662439328729405 | 0.047994347916037024 |\n",
      "+------------+---------------------+---------------------+---------------------+---------------------+---------------------+---------------------+---------------------+----------------------+\n"
     ]
    }
   ],
   "source": [
    "solve(\"markov_chain_example.json\")"
   ]
  }
 ],
 "metadata": {
  "kernelspec": {
   "display_name": "Python 3",
   "language": "python",
   "name": "python3"
  },
  "language_info": {
   "codemirror_mode": {
    "name": "ipython",
    "version": 3
   },
   "file_extension": ".py",
   "mimetype": "text/x-python",
   "name": "python",
   "nbconvert_exporter": "python",
   "pygments_lexer": "ipython3",
   "version": "3.11.5"
  }
 },
 "nbformat": 4,
 "nbformat_minor": 2
}
