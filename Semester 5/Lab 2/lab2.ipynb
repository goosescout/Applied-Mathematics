{
 "cells": [
  {
   "cell_type": "markdown",
   "metadata": {},
   "source": [
    "# Лабораторная работа №2\n",
    "\n",
    "_Выполнили: Гуревич Михаил, Трохан Александр и Соловьёв Роман, M33001_"
   ]
  },
  {
   "cell_type": "code",
   "execution_count": 60,
   "metadata": {},
   "outputs": [],
   "source": [
    "from typing import Literal\n",
    "\n",
    "import json\n",
    "from itertools import product\n",
    "from fractions import Fraction\n",
    "\n",
    "import numpy as np\n",
    "from simplex_solver import SimplexSolver, LinearProgram, Constraint"
   ]
  },
  {
   "cell_type": "markdown",
   "metadata": {},
   "source": [
    "## Реализация алгоритма"
   ]
  },
  {
   "cell_type": "markdown",
   "metadata": {},
   "source": [
    "Реализуем класс игры с нулевой суммой:"
   ]
  },
  {
   "cell_type": "code",
   "execution_count": 61,
   "metadata": {},
   "outputs": [],
   "source": [
    "class Game:\n",
    "    def __init__(self, matrix: np.ndarray):\n",
    "        self.matrix = matrix.copy()\n",
    "        self.original_matrix = matrix.copy()\n",
    "\n",
    "        self.remaining_strategies = [list(range(matrix.shape[0])), list(range(matrix.shape[1]))]\n",
    "\n",
    "    @staticmethod\n",
    "    def from_json(path: str):\n",
    "        with open(path) as f:\n",
    "            matrix = np.array(json.load(f)[\"payoff_matrix\"])\n",
    "        return Game(matrix)\n",
    "    \n",
    "    def __str__(self):\n",
    "        return str(self.matrix)\n",
    "\n",
    "    def _eliminate_dominated_by_player(self, matrix: np.ndarray, player: Literal[0, 1]):\n",
    "        \"\"\"Eliminate dominated strategies for a given player.\"\"\"\n",
    "\n",
    "        dominated_strategies = []\n",
    "\n",
    "        for i in range(matrix.shape[player]):\n",
    "            for j in range(matrix.shape[player]):\n",
    "                if i != j and (\n",
    "                    (player == 0 and np.all(matrix[i, :] <= matrix[j, :])) or\n",
    "                    (player == 1 and np.all(\n",
    "                        matrix[:, i] >= matrix[:, j]))\n",
    "                ):\n",
    "                    dominated_strategies.append(i)\n",
    "                    break\n",
    "\n",
    "        for i, strategy in enumerate(dominated_strategies):\n",
    "            del self.remaining_strategies[player][strategy - i]\n",
    "\n",
    "        return np.delete(matrix, dominated_strategies, axis=player)\n",
    "\n",
    "    def _eliminate_dominated(self):\n",
    "        \"\"\"Eliminate dominated strategies for both players.\"\"\"\n",
    "\n",
    "        while True:\n",
    "            matrix = self.matrix.copy()\n",
    "            matrix = self._eliminate_dominated_by_player(matrix, 0)\n",
    "            matrix = self._eliminate_dominated_by_player(matrix, 1)\n",
    "            if matrix.shape == self.matrix.shape:\n",
    "                break\n",
    "            self.matrix = matrix\n",
    "\n",
    "    def _get_lower_value(self) -> tuple[float, np.ndarray]:\n",
    "        \"\"\"Get the lower value of the game and the corresponding strategy.\"\"\"\n",
    "\n",
    "        min_ = np.min(self.matrix, axis=1)\n",
    "        maxmin = np.max(min_)\n",
    "        return maxmin, np.nonzero(min_ == maxmin)[0]\n",
    "    \n",
    "    def _get_upper_value(self) -> tuple[float, np.ndarray]:\n",
    "        \"\"\"Get the upper value of the game and the corresponding strategy.\"\"\"\n",
    "\n",
    "        max_ = np.max(self.matrix, axis=0)\n",
    "        minmax = np.min(max_)\n",
    "        return minmax, np.nonzero(max_ == minmax)[0]\n",
    "    \n",
    "    def _get_saddle_point(self) -> tuple[float, tuple[int, int]]:\n",
    "        \"\"\"Get the saddle point of the game and the corresponding strategy.\"\"\"\n",
    "\n",
    "        maxmin, maxmin_strategies = self._get_lower_value()\n",
    "        minmax, minmax_strategies = self._get_upper_value()\n",
    "        if maxmin == minmax:\n",
    "            for strategy in product(maxmin_strategies, minmax_strategies):\n",
    "                if self.matrix[strategy] == maxmin:\n",
    "                    return maxmin, strategy\n",
    "                \n",
    "    def _solve_linear_programs(self):\n",
    "        \"\"\"Solve primal and dual linear programs associated to the game.\"\"\"\n",
    "\n",
    "        positive_matrix = self.matrix.copy()\n",
    "        if any(positive_matrix.flatten() <= 0):\n",
    "            positive_matrix -= np.min(positive_matrix) - 1\n",
    "\n",
    "        primal_constraints = []\n",
    "        for row in positive_matrix:\n",
    "            primal_constraints.append(Constraint(row, \"leq\", 1))\n",
    "        primal = LinearProgram([1] * positive_matrix.shape[1], \"max\", primal_constraints)\n",
    "\n",
    "        dual_constraints = []\n",
    "        for column in positive_matrix.T:\n",
    "            dual_constraints.append(Constraint(column, \"geq\", 1))\n",
    "        dual = LinearProgram([1] * positive_matrix.shape[0], \"min\", dual_constraints)\n",
    "\n",
    "        primal_solution = SimplexSolver(primal).solve()\n",
    "        dual_solution = SimplexSolver(dual).solve()\n",
    "        \n",
    "        if primal_solution[1] != dual_solution[1]:\n",
    "            raise ValueError(\"An error occured: the primal and dual solutions have different values.\")\n",
    "        \n",
    "        return 1 / primal_solution[1], primal_solution[0], dual_solution[0]\n",
    "                \n",
    "    def solve_in_pure_strategies(self):\n",
    "        \"\"\"Solve the game in pure strategies.\"\"\"\n",
    "\n",
    "        self._eliminate_dominated()\n",
    "        saddle_point = self._get_saddle_point()\n",
    "        if saddle_point is not None:\n",
    "            return saddle_point\n",
    "        else:\n",
    "            raise ValueError(\"The game has no saddle point and cannot be solved in pure strategies.\")\n",
    "        \n",
    "    def solve_in_mixed_strategies(self) -> tuple[float, tuple[tuple[Fraction], tuple[Fraction]]]:\n",
    "        \"\"\"Solve the game in mixed strategies.\"\"\"\n",
    "\n",
    "        self._eliminate_dominated()\n",
    "        value, primal_solution, dual_solution = self._solve_linear_programs()\n",
    "        \n",
    "        optimal_strategy_player_1 = tuple(np.multiply(dual_solution, value).tolist())\n",
    "        optimal_strategy_player_2 = tuple(np.multiply(primal_solution, value).tolist())\n",
    "\n",
    "        real_value = np.dot(np.dot(optimal_strategy_player_1, self.matrix), optimal_strategy_player_2)\n",
    "\n",
    "        return real_value, (optimal_strategy_player_1, optimal_strategy_player_2)\n",
    "    \n",
    "    def get_pure_strategy(self, player: Literal[0, 1], strategy: int) -> np.ndarray[int, int]:\n",
    "        \"\"\"Get the pure strategy of a given player.\"\"\"\n",
    "\n",
    "        if player == 0:\n",
    "            return self.original_matrix[self.remaining_strategies[player][strategy], :]\n",
    "        else:\n",
    "            return self.original_matrix[:, self.remaining_strategies[player][strategy]].flatten()\n",
    "        \n",
    "    def get_mixed_strategy(self, player: Literal[0, 1], strategy: tuple[Fraction]) -> tuple[Fraction]:\n",
    "        \"\"\"Get the mixed strategy of a given player.\"\"\"\n",
    "\n",
    "        full_strategy: list[Fraction] = []\n",
    "        j = 0\n",
    "        for i in range(self.original_matrix.shape[player]):\n",
    "            if i in self.remaining_strategies[player]:\n",
    "                full_strategy.append(strategy[j])\n",
    "                j += 1\n",
    "            else:\n",
    "                full_strategy.append(0)\n",
    "        \n",
    "        return tuple(full_strategy)"
   ]
  },
  {
   "cell_type": "markdown",
   "metadata": {},
   "source": [
    "Используя этот класс, реализуем функцию которая будет выводить решение для игры:"
   ]
  },
  {
   "cell_type": "code",
   "execution_count": 62,
   "metadata": {},
   "outputs": [],
   "source": [
    "def solve(file: str):\n",
    "    game = Game.from_json(file)\n",
    "    print(\"Solving a zero-sum game:\")\n",
    "    print(game)\n",
    "\n",
    "    try:\n",
    "        value, strategies = game.solve_in_pure_strategies()\n",
    "\n",
    "        print(f\"The game has a saddle point: {value}\")\n",
    "        print(\"Pure strategies:\")\n",
    "        print(f\"Player 1: {game.get_pure_strategy(0, strategies[0])} (row {game.remaining_strategies[0][strategies[0]]})\")\n",
    "        print(f\"Player 2: {game.get_pure_strategy(1, strategies[1])} (column {game.remaining_strategies[1][strategies[1]]})\")\n",
    "    except ValueError:\n",
    "        print(\"The game has no saddle point and cannot be solved in pure strategies\")\n",
    "        value, strategies = game.solve_in_mixed_strategies()\n",
    "\n",
    "        print(f\"The game has a value: {value}\")\n",
    "        print(\"Mixed strategies:\")\n",
    "        print(\"Player 1:\", *game.get_mixed_strategy(0, strategies[0]), sep=\", \")\n",
    "        print(\"Player 2:\", *game.get_mixed_strategy(1, strategies[1]), sep=\", \")"
   ]
  },
  {
   "cell_type": "markdown",
   "metadata": {},
   "source": [
    "## Тестирование алгоритма"
   ]
  },
  {
   "cell_type": "markdown",
   "metadata": {},
   "source": [
    "С помощью реализованного алгоритма найдём решение для игры со следующей платёжной матрицей:\n",
    "$$A = \\begin{pmatrix}\n",
    "    3 & 9 & 2 & 1 \\\\\n",
    "    7 & 8 & 5 & 6 \\\\\n",
    "    4 & 7 & 3 & 5 \\\\\n",
    "    5 & 6 & 1 & 7\n",
    "\\end{pmatrix}$$"
   ]
  },
  {
   "cell_type": "code",
   "execution_count": 63,
   "metadata": {},
   "outputs": [
    {
     "name": "stdout",
     "output_type": "stream",
     "text": [
      "Solving a zero-sum game:\n",
      "[[3 9 2 1]\n",
      " [7 8 5 6]\n",
      " [4 7 3 5]\n",
      " [5 6 1 7]]\n",
      "The game has a saddle point: 5\n",
      "Pure strategies:\n",
      "Player 1: [7 8 5 6] (row 1)\n",
      "Player 2: [2 5 3 1] (column 2)\n"
     ]
    }
   ],
   "source": [
    "solve(\"test1.json\")"
   ]
  },
  {
   "cell_type": "markdown",
   "metadata": {},
   "source": [
    "Теперь проверим игру, для которой не существует решения в чистых стратегиях:\n",
    "$$A = \\begin{pmatrix}\n",
    "    3 & 4 & 6 & 8 \\\\\n",
    "    9 & 10 & 4 & 2 \\\\\n",
    "    7 & 7 & 5 & 4\n",
    "\\end{pmatrix}$$"
   ]
  },
  {
   "cell_type": "code",
   "execution_count": 64,
   "metadata": {},
   "outputs": [
    {
     "name": "stdout",
     "output_type": "stream",
     "text": [
      "Solving a zero-sum game:\n",
      "[[ 3  4  6  8]\n",
      " [ 9 10  4  2]\n",
      " [ 7  7  5  4]]\n",
      "The game has no saddle point and cannot be solved in pure strategies\n",
      "The game has a value: 27/5\n",
      "Mixed strategies:\n",
      "Player 1:, 2/5, 0, 3/5\n",
      "Player 2:, 1/5, 0, 4/5, 0\n"
     ]
    }
   ],
   "source": [
    "solve(\"test2.json\")"
   ]
  },
  {
   "cell_type": "markdown",
   "metadata": {},
   "source": [
    "И наконец рассмотрим классическую игру в Камень-Ножницы-Бумага. Её матрица имееет вид:\n",
    "$$A = \\begin{pmatrix}\n",
    "    0 & 1 & -1 \\\\\n",
    "    -1 & 0 & 1 \\\\\n",
    "    1 & -1 & 0\n",
    "\\end{pmatrix}$$\n",
    "Если попытаться воспользоваться алгоритмом без преобразования матрицы, то симлпекс-метод не сойдётся и выдаст ошибку с сообщением о том, что решения нет. Поэтому перед тем, как решать игру в смешанных стратегиях, нужно преобразовать матрицу так, чтобы в ней были только положительные элементы. Тогда отнимем от каждого элемента матрицы минимальный отрицательный элемент - 1. Это преобразование уже реализованно в нашем классе `Game`."
   ]
  },
  {
   "cell_type": "code",
   "execution_count": 65,
   "metadata": {},
   "outputs": [
    {
     "name": "stdout",
     "output_type": "stream",
     "text": [
      "Solving a zero-sum game:\n",
      "[[ 0  1 -1]\n",
      " [-1  0  1]\n",
      " [ 1 -1  0]]\n",
      "The game has no saddle point and cannot be solved in pure strategies\n",
      "The game has a value: 0\n",
      "Mixed strategies:\n",
      "Player 1:, 1/3, 1/3, 1/3\n",
      "Player 2:, 1/3, 1/3, 1/3\n"
     ]
    }
   ],
   "source": [
    "solve(\"test3.json\")"
   ]
  }
 ],
 "metadata": {
  "kernelspec": {
   "display_name": "Python 3",
   "language": "python",
   "name": "python3"
  },
  "language_info": {
   "codemirror_mode": {
    "name": "ipython",
    "version": 3
   },
   "file_extension": ".py",
   "mimetype": "text/x-python",
   "name": "python",
   "nbconvert_exporter": "python",
   "pygments_lexer": "ipython3",
   "version": "3.11.5"
  }
 },
 "nbformat": 4,
 "nbformat_minor": 2
}
